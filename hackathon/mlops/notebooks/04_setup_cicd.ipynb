{
 "cells": [
  {
   "cell_type": "markdown",
   "metadata": {},
   "source": [
    "# Setting up the CI/CD pipelines (advanced)"
   ]
  },
  {
   "cell_type": "markdown",
   "metadata": {},
   "source": [
    "Now we have our pipeline, we still have some more steps to complete our MLOps setup. One of these steps is setting up our CI/CD pipelines, which we'll use to automatically perform code checks, unit tests etc. on our model, before redeploying our changed model code in a new version of the ML pipeline."
   ]
  },
  {
   "cell_type": "markdown",
   "metadata": {},
   "source": [
    "What we want to achieve is something like the following:\n",
    "\n",
    "* Having a build pipeline that performs some standard checks on our code and deploys the ML pipeline.\n",
    "* Once deployed, automatically trigger our ML pipeline to train a new version of the model.\n",
    "* After the training run, automatically deploy the new model to an API endpoint.\n",
    "\n",
    "This (more-or-less) follows the practices in this MLOps image from Microsoft:\n",
    "\n",
    "![MLOps](https://raw.githubusercontent.com/microsoft/MLOpsPython/master/docs/images/main-flow.png)"
   ]
  },
  {
   "cell_type": "markdown",
   "metadata": {},
   "source": [
    "### Exercise\n",
    "\n",
    "In our hackathon skeleton, we have provided an initial setup for an Azure Build pipeline that has three stages:\n",
    "\n",
    "* Running the CI + deploying the ML pipeline\n",
    "* Running/triggering the ML pipeline\n",
    "* Deploying the most recent model\n",
    "\n",
    "The definition of the Build pipeline is contained in the `azure-devops.yml` file, together with number of supporting CI scripts in the top-level scripts directory.\n",
    "\n",
    "Let's try to set up the build pipeline using the following steps:\n",
    "\n",
    "1. First, look through the build pipeline + supporting scripts to see if you understand what the build pipeline does.\n",
    "1. Modify the *publish_ml_pipeline.py* script to use the pipeline definition that you created in the previous exercises.\n",
    "1. Create a repository in Azure DevOps (create a Azure DevOps project first if you don't have one). *Note: you can also use Github if you connect your Github account to Azure DevOps.*\n",
    "1. Create a Service connection linking your Azure DevOps project to your Azure Subscription.\n",
    "1. Configure the build pipeline for your Azure Subscription by changing the required variables in azure-devops.yml (marked by <VAR_NAME>). \n",
    "1. Setup the pipeline using Azure DevOps by creating a new build pipeline.\n",
    "1. Run the build pipeline to see if it manages to publish/run the pipeline and deploy the new model."
   ]
  },
  {
   "cell_type": "code",
   "execution_count": null,
   "metadata": {},
   "outputs": [],
   "source": []
  }
 ],
 "metadata": {
  "kernelspec": {
   "display_name": "Python 3",
   "language": "python",
   "name": "python3"
  },
  "language_info": {
   "codemirror_mode": {
    "name": "ipython",
    "version": 3
   },
   "file_extension": ".py",
   "mimetype": "text/x-python",
   "name": "python",
   "nbconvert_exporter": "python",
   "pygments_lexer": "ipython3",
   "version": "3.7.3"
  }
 },
 "nbformat": 4,
 "nbformat_minor": 4
}
