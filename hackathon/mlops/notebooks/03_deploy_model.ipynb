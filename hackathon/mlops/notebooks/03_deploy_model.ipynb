{
 "cells": [
  {
   "cell_type": "markdown",
   "metadata": {},
   "source": [
    "# Deploying your trained model"
   ]
  },
  {
   "cell_type": "code",
   "execution_count": null,
   "metadata": {},
   "outputs": [],
   "source": [
    "from azureml.core import Workspace\n",
    "\n",
    "workspace = Workspace.from_config()"
   ]
  },
  {
   "cell_type": "code",
   "execution_count": null,
   "metadata": {},
   "outputs": [],
   "source": [
    "from azureml.core.model import Model\n",
    "\n",
    "model_name = \"MY_MODEL_NAME\"\n",
    "service_name = \"MY_WEBSERVICE_NAME\"\n",
    "\n",
    "# Fetch model from workspace. Include version parameter\n",
    "# to fetch a specific version. \n",
    "model = Model(workspace=workspace, name=model_name)"
   ]
  },
  {
   "cell_type": "code",
   "execution_count": null,
   "metadata": {},
   "outputs": [],
   "source": [
    "from pathlib import Path\n",
    "\n",
    "# Define model environment.\n",
    "model_dir = Path(\"../model\")\n",
    "model_env = Environment.from_conda_specification(f\"{model_name}-env\", model_dir / \"environment.yml\")\n",
    " \n",
    "# Define inference config (= how to serve model).\n",
    "inference_config = InferenceConfig(\n",
    "    entry_script=\"scripts/serve.py\", \n",
    "    source_directory=model_dir, \n",
    "    environment=env\n",
    ")\n",
    "\n",
    "# Remove any existing service under the same name.\n",
    "service_name = \"titanic\"\n",
    "\n",
    "try:\n",
    "    existing_service = Webservice(workspace, name=service_name)\n",
    "    print(\"WARNING: Deleting existing service '%s'\", service_name)\n",
    "    existing_service.delete()\n",
    "except WebserviceException:\n",
    "    pass\n",
    "\n",
    "print(\"Starting deployment\")\n",
    "service = Model.deploy(workspace, service_name, [model], inference_config)\n",
    "\n",
    "if wait:\n",
    "    service.wait_for_deployment(show_output=True)"
   ]
  },
  {
   "cell_type": "markdown",
   "metadata": {},
   "source": [
    "### Exercise \n",
    "\n",
    "Try to query your webservice using the requests library."
   ]
  },
  {
   "cell_type": "code",
   "execution_count": null,
   "metadata": {},
   "outputs": [],
   "source": [
    "%load answers/webservice.py"
   ]
  }
 ],
 "metadata": {
  "kernelspec": {
   "display_name": "Python 3",
   "language": "python",
   "name": "python3"
  },
  "language_info": {
   "codemirror_mode": {
    "name": "ipython",
    "version": 3
   },
   "file_extension": ".py",
   "mimetype": "text/x-python",
   "name": "python",
   "nbconvert_exporter": "python",
   "pygments_lexer": "ipython3",
   "version": "3.7.3"
  }
 },
 "nbformat": 4,
 "nbformat_minor": 4
}
