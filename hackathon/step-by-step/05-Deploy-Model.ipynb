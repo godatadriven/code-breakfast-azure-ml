{
 "cells": [
  {
   "cell_type": "markdown",
   "metadata": {},
   "source": [
    "# Deploy trained model\n",
    "\n",
    "- Connect to the Workspace\n",
    "- Get Experiment and the registered model\n",
    "- Deploy using the Portal"
   ]
  },
  {
   "cell_type": "code",
   "execution_count": null,
   "metadata": {
    "pycharm": {
     "is_executing": false
    }
   },
   "outputs": [],
   "source": [
    "from azureml.core import Workspace, Experiment, Dataset\n",
    "\n",
    "ws = Workspace.from_config()\n",
    "\n",
    "exp = Experiment(workspace=ws, name='my-experiment')"
   ]
  },
  {
   "cell_type": "code",
   "execution_count": null,
   "metadata": {},
   "outputs": [],
   "source": [
    "titanic_model = ws.models['titanic-sklearn-dctree']"
   ]
  },
  {
   "cell_type": "markdown",
   "metadata": {},
   "source": [
    "### Use the AzureML UI\n",
    "\n",
    "Deploy the model using the UI into ACI. We have a model that accepts rows with a combination of `String` and `float` types. Only models that are compatible with input `Array[float]` can be deployed as No-Code. We need a custom wrapper that transforms the payload into Pandas DataFrame. The `scripts/entry_script.py` is the wrapper.\n",
    "\n",
    "- ACI is a Dev/Test solution for running a container-group.\n",
    "- AKS (Kubernetes) is a production runtime (inference) solution\n",
    "\n",
    "> Note: Only models with input `Array[float]` can be deployed as No-Code solutions!\n",
    "\n",
    "**Use custom deploy Assets**\n",
    "- Entry Script: `scripts/entry_script.py`\n",
    "- Conda dependency file: `scripts/conda_env.py`\n",
    "\n",
    "![Deploy with the UI](../../images/deploy_aci_using_ui.png)"
   ]
  },
  {
   "cell_type": "code",
   "execution_count": null,
   "metadata": {},
   "outputs": [],
   "source": [
    "from azureml.core import Webservice\n",
    "\n",
    "services = Webservice.list(ws)\n",
    "for service in services:\n",
    "    print(service.name)\n",
    "    print(\" - Scoring  : \" + service.scoring_uri)\n",
    "    print(\" - API Descr: \" + service.swagger_uri)\n",
    "    print(\"\")"
   ]
  },
  {
   "cell_type": "markdown",
   "metadata": {},
   "source": [
    "- Check the Swagger URL: install a browser-plugin to see the API.\n",
    "- Which endpoints are avaiable and what is the purpose of the GET-request? \n",
    "- What are the expected arguments of the /score POST endpoint?"
   ]
  },
  {
   "cell_type": "markdown",
   "metadata": {},
   "source": [
    "## Call your service\n",
    "\n",
    "Find your publicly exposed URL. By clicking on the endpoints.\n",
    "\n",
    "- Endpoints\n",
    "- Real-Time endpoints\n",
    "- Click on your model\n",
    "\n",
    "![copy_aci_url](../../images/copy_aci_url.png)\n"
   ]
  },
  {
   "cell_type": "code",
   "execution_count": null,
   "metadata": {},
   "outputs": [],
   "source": [
    "from azureml.core import Dataset\n",
    "\n",
    "predict_ds = Dataset.get_by_name(ws, name=\"titanic_predict_ds\")\n",
    "rows_to_predict = predict_ds.take(5).to_pandas_dataframe()\n",
    "rows_to_predict"
   ]
  },
  {
   "cell_type": "code",
   "execution_count": null,
   "metadata": {},
   "outputs": [],
   "source": [
    "# Convert into list[list[values]], as expected by the Rest API\n",
    "test_values = rows_to_predict.values.tolist()\n",
    "\n",
    "test_values[:1]"
   ]
  },
  {
   "cell_type": "code",
   "execution_count": null,
   "metadata": {},
   "outputs": [],
   "source": [
    "import requests\n",
    "\n",
    "res = requests.post(\n",
    "    'http://YOUR-ACI-RUNTIME-UNIQUE-ID.westeurope.azurecontainer.io/score',\n",
    "    json = {\"data\": test_values},\n",
    "    headers = {'Content-Type':'application/json'}\n",
    ")\n",
    "\n",
    "res.raise_for_status()\n",
    "res.json()"
   ]
  },
  {
   "cell_type": "markdown",
   "metadata": {},
   "source": [
    "- Challenge 1: Deploy using code instead of the UI "
   ]
  }
 ],
 "metadata": {
  "kernelspec": {
   "display_name": "Python 3",
   "language": "python",
   "name": "python3"
  },
  "language_info": {
   "codemirror_mode": {
    "name": "ipython",
    "version": 3
   },
   "file_extension": ".py",
   "mimetype": "text/x-python",
   "name": "python",
   "nbconvert_exporter": "python",
   "pygments_lexer": "ipython3",
   "version": "3.7.6"
  },
  "pycharm": {
   "stem_cell": {
    "cell_type": "raw",
    "metadata": {
     "collapsed": false
    },
    "source": []
   }
  }
 },
 "nbformat": 4,
 "nbformat_minor": 2
}
