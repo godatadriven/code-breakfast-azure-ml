{
 "cells": [
  {
   "cell_type": "markdown",
   "metadata": {},
   "source": [
    "# Train a Model\n",
    "\n",
    "- Connect to the Workspace\n",
    "- Get Experiment\n",
    "- Load dataset 'titanic_train_ds'\n",
    "- Train model 'output/decision_tree.pkl'"
   ]
  },
  {
   "cell_type": "code",
   "execution_count": null,
   "metadata": {
    "pycharm": {
     "is_executing": false
    }
   },
   "outputs": [],
   "source": [
    "from azureml.core import Workspace, Experiment, Dataset\n",
    "\n",
    "ws = Workspace.from_config()\n",
    "\n",
    "exp = Experiment(workspace=ws, name='my-experiment')"
   ]
  },
  {
   "cell_type": "code",
   "execution_count": null,
   "metadata": {},
   "outputs": [],
   "source": [
    "titanic_train_ds = Dataset.get_by_name(ws, name=\"titanic_train_ds\")\n",
    "titanic_train_ds.take(5).to_pandas_dataframe()"
   ]
  },
  {
   "cell_type": "markdown",
   "metadata": {},
   "source": [
    "Take a look at the `./scripts/decisiontree_titanic_model.py`"
   ]
  },
  {
   "cell_type": "code",
   "execution_count": null,
   "metadata": {
    "pycharm": {
     "is_executing": false
    }
   },
   "outputs": [],
   "source": [
    "from azureml.train.sklearn import SKLearn\n",
    "\n",
    "# https://docs.microsoft.com/en-us/python/api/azureml-train-core/azureml.train.sklearn.sklearn\n",
    "\n",
    "estimator = SKLearn(\n",
    "    source_directory='scripts', \n",
    "    entry_script='decisiontree_titanic_model.py',\n",
    "    inputs=[titanic_train_ds.as_named_input('titanic_training')],\n",
    "    pip_packages=[\"azureml-dataprep[fuse,pandas]\"],\n",
    "    # environment_definition= # You can change the runtime with a custom: Environment() \n",
    "    compute_target=\"local\"    # Where you run this notebook runs (NotebookVM, or local laptop)\n",
    ")"
   ]
  },
  {
   "cell_type": "markdown",
   "metadata": {},
   "source": [
    "- Challenge 1: Modify the environment to **not** use docker, but only conda instead.\n",
    "- Challenge 2: Change the compute Azure Machine Learning managed compute (AmlCompute) for your remote training\n",
    "- Challenge 3: Add DataSet 'titanic_validation_ds' as named dataset 'validation' as extra input for `decisiontree_titanic_model.py`\n",
    "- Challenge 3: add metric logging in `decisiontree_titanic_model.py`: "
   ]
  },
  {
   "cell_type": "code",
   "execution_count": null,
   "metadata": {
    "pycharm": {
     "is_executing": false
    }
   },
   "outputs": [],
   "source": [
    "# async\n",
    "run = exp.submit(estimator)"
   ]
  },
  {
   "cell_type": "code",
   "execution_count": null,
   "metadata": {
    "pycharm": {
     "is_executing": false
    }
   },
   "outputs": [],
   "source": [
    "from azureml.widgets import RunDetails\n",
    "\n",
    "# monitor the run\n",
    "RunDetails(run).show()"
   ]
  },
  {
   "cell_type": "code",
   "execution_count": null,
   "metadata": {},
   "outputs": [],
   "source": [
    "run.register_model(\n",
    "    \"titanic-sklearn-dctree\",\n",
    "    model_path='outputs/decision_tree.pkl',\n",
    "    tags={\"status\": \"You made it!\",\n",
    "          \"Check\": \"AzureML UI!\",\n",
    "          \"What-ToDo\": \"Deploy this model!\"},\n",
    "    model_framework='ScikitLearn', \n",
    "    model_framework_version='0.20.3',\n",
    "    description=\"Classifier for predicting survivers of the Titanc.\"\n",
    "    # Optional, link datasets.\n",
    ")"
   ]
  },
  {
   "cell_type": "markdown",
   "metadata": {},
   "source": [
    "Check the AzureML UI: Can you see your registered model and its properties?"
   ]
  },
  {
   "cell_type": "code",
   "execution_count": null,
   "metadata": {},
   "outputs": [],
   "source": []
  }
 ],
 "metadata": {
  "kernelspec": {
   "display_name": "Python 3",
   "language": "python",
   "name": "python3"
  },
  "language_info": {
   "codemirror_mode": {
    "name": "ipython",
    "version": 3
   },
   "file_extension": ".py",
   "mimetype": "text/x-python",
   "name": "python",
   "nbconvert_exporter": "python",
   "pygments_lexer": "ipython3",
   "version": "3.7.6"
  },
  "pycharm": {
   "stem_cell": {
    "cell_type": "raw",
    "source": [],
    "metadata": {
     "collapsed": false
    }
   }
  }
 },
 "nbformat": 4,
 "nbformat_minor": 2
}